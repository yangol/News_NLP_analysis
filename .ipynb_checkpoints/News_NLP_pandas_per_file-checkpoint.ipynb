{
 "cells": [
  {
   "cell_type": "code",
   "execution_count": 9,
   "metadata": {},
   "outputs": [],
   "source": [
    "import numpy as np\n",
    "import pandas as pd\n",
    "import boto3\n",
    "\n",
    "Headlines=pd.read_csv('/Users/olgayangol/Desktop/git_proj/News_NLP_analysis/headlines_05142018.csv',encoding=\"ISO-8859-1\")"
   ]
  },
  {
   "cell_type": "code",
   "execution_count": 10,
   "metadata": {},
   "outputs": [
    {
     "data": {
      "text/plain": [
       "(95, 2)"
      ]
     },
     "execution_count": 10,
     "metadata": {},
     "output_type": "execute_result"
    }
   ],
   "source": [
    "#Headlines.head(10)\n",
    "Headlines.shape"
   ]
  },
  {
   "cell_type": "code",
   "execution_count": 11,
   "metadata": {},
   "outputs": [],
   "source": [
    "nlp_engine=boto3.client(service_name=\"comprehend\",region_name=\"us-east-1\")"
   ]
  },
  {
   "cell_type": "code",
   "execution_count": 12,
   "metadata": {},
   "outputs": [],
   "source": [
    "nlp_input=list(Headlines['Headline'])"
   ]
  },
  {
   "cell_type": "code",
   "execution_count": 13,
   "metadata": {},
   "outputs": [],
   "source": [
    "def nlp_sentiment(hl_list):\n",
    "    sentiment_word=[]\n",
    "    positive_score=[]\n",
    "    neutral_score=[]\n",
    "    negative_score=[]\n",
    "    \n",
    "    for hl in hl_list:\n",
    "        result=nlp_engine.detect_sentiment(Text=hl,LanguageCode='en')\n",
    "        sentiment_word.append(result['Sentiment']) #populate sentiment word list\n",
    "        sent_score_dict=result['SentimentScore'] #create score dictionary\n",
    "        positive_score.append(sent_score_dict['Positive']) #populate positive score list\n",
    "        neutral_score.append(sent_score_dict['Neutral']) #populate negative score list\n",
    "        negative_score.append(sent_score_dict['Negative']) #populate neutral score list\n",
    "    return (sentiment_word,positive_score,neutral_score, negative_score)"
   ]
  },
  {
   "cell_type": "code",
   "execution_count": 14,
   "metadata": {},
   "outputs": [],
   "source": [
    "sentiment_word,positive_score,neutral_score, negative_score=nlp_sentiment(nlp_input)"
   ]
  },
  {
   "cell_type": "code",
   "execution_count": 15,
   "metadata": {},
   "outputs": [],
   "source": [
    "NLP_Headlines=Headlines"
   ]
  },
  {
   "cell_type": "code",
   "execution_count": 16,
   "metadata": {},
   "outputs": [],
   "source": [
    "NLP_Headlines[\"Sentiment\"]=sentiment_word\n",
    "NLP_Headlines[\"Positive_score\"]=positive_score\n",
    "NLP_Headlines[\"Neutral_score\"]=neutral_score\n",
    "NLP_Headlines[\"Negative_score\"]=negative_score\n"
   ]
  },
  {
   "cell_type": "code",
   "execution_count": 19,
   "metadata": {},
   "outputs": [
    {
     "data": {
      "text/html": [
       "<div>\n",
       "<style scoped>\n",
       "    .dataframe tbody tr th:only-of-type {\n",
       "        vertical-align: middle;\n",
       "    }\n",
       "\n",
       "    .dataframe tbody tr th {\n",
       "        vertical-align: top;\n",
       "    }\n",
       "\n",
       "    .dataframe thead th {\n",
       "        text-align: right;\n",
       "    }\n",
       "</style>\n",
       "<table border=\"1\" class=\"dataframe\">\n",
       "  <thead>\n",
       "    <tr style=\"text-align: right;\">\n",
       "      <th></th>\n",
       "      <th>Headline</th>\n",
       "      <th>Source</th>\n",
       "      <th>Sentiment</th>\n",
       "      <th>Positive_score</th>\n",
       "      <th>Neutral_score</th>\n",
       "      <th>Negative_score</th>\n",
       "    </tr>\n",
       "  </thead>\n",
       "  <tbody>\n",
       "    <tr>\n",
       "      <th>0</th>\n",
       "      <td>US withdrawal from Iran nuclear deal drives An...</td>\n",
       "      <td>World Socialist Web Site</td>\n",
       "      <td>NEUTRAL</td>\n",
       "      <td>0.007600</td>\n",
       "      <td>0.932895</td>\n",
       "      <td>0.056181</td>\n",
       "    </tr>\n",
       "    <tr>\n",
       "      <th>1</th>\n",
       "      <td>Turkey: Erdogan's Islamist \"Family Engineering\"</td>\n",
       "      <td>Gatestone Institute</td>\n",
       "      <td>NEUTRAL</td>\n",
       "      <td>0.004511</td>\n",
       "      <td>0.989984</td>\n",
       "      <td>0.004784</td>\n",
       "    </tr>\n",
       "    <tr>\n",
       "      <th>2</th>\n",
       "      <td>Erdogan begins three-day visit to Britain</td>\n",
       "      <td>euronews</td>\n",
       "      <td>NEUTRAL</td>\n",
       "      <td>0.004886</td>\n",
       "      <td>0.956987</td>\n",
       "      <td>0.036294</td>\n",
       "    </tr>\n",
       "    <tr>\n",
       "      <th>3</th>\n",
       "      <td>Kurdish protesters spark violent clash with po...</td>\n",
       "      <td>Express.co.uk</td>\n",
       "      <td>NEUTRAL</td>\n",
       "      <td>0.003366</td>\n",
       "      <td>0.985740</td>\n",
       "      <td>0.010090</td>\n",
       "    </tr>\n",
       "    <tr>\n",
       "      <th>4</th>\n",
       "      <td>US has lost 'mediator role' in Middle East: Er...</td>\n",
       "      <td>The Daily Star</td>\n",
       "      <td>NEUTRAL</td>\n",
       "      <td>0.009684</td>\n",
       "      <td>0.911310</td>\n",
       "      <td>0.074570</td>\n",
       "    </tr>\n",
       "    <tr>\n",
       "      <th>5</th>\n",
       "      <td>Erdogan condemns US for punishing Palestinians...</td>\n",
       "      <td>Hong Kong Standard (press release)</td>\n",
       "      <td>NEUTRAL</td>\n",
       "      <td>0.046232</td>\n",
       "      <td>0.944054</td>\n",
       "      <td>0.007985</td>\n",
       "    </tr>\n",
       "    <tr>\n",
       "      <th>6</th>\n",
       "      <td>Erdogan and the Queen</td>\n",
       "      <td>EUobserver</td>\n",
       "      <td>NEUTRAL</td>\n",
       "      <td>0.045549</td>\n",
       "      <td>0.934725</td>\n",
       "      <td>0.017578</td>\n",
       "    </tr>\n",
       "    <tr>\n",
       "      <th>7</th>\n",
       "      <td>Erdogan flies into Britain for talks on a new ...</td>\n",
       "      <td>The Times</td>\n",
       "      <td>NEUTRAL</td>\n",
       "      <td>0.013340</td>\n",
       "      <td>0.968026</td>\n",
       "      <td>0.016570</td>\n",
       "    </tr>\n",
       "    <tr>\n",
       "      <th>8</th>\n",
       "      <td>Cyprus on agenda of Erdogan's UK visit</td>\n",
       "      <td>Cyprus Mail</td>\n",
       "      <td>NEUTRAL</td>\n",
       "      <td>0.007346</td>\n",
       "      <td>0.986278</td>\n",
       "      <td>0.005865</td>\n",
       "    </tr>\n",
       "    <tr>\n",
       "      <th>9</th>\n",
       "      <td>US 'part of the problem' in Israel-Palestine p...</td>\n",
       "      <td>Pakistan Today</td>\n",
       "      <td>NEUTRAL</td>\n",
       "      <td>0.015028</td>\n",
       "      <td>0.860330</td>\n",
       "      <td>0.117219</td>\n",
       "    </tr>\n",
       "  </tbody>\n",
       "</table>\n",
       "</div>"
      ],
      "text/plain": [
       "                                            Headline  \\\n",
       "0  US withdrawal from Iran nuclear deal drives An...   \n",
       "1    Turkey: Erdogan's Islamist \"Family Engineering\"   \n",
       "2          Erdogan begins three-day visit to Britain   \n",
       "3  Kurdish protesters spark violent clash with po...   \n",
       "4  US has lost 'mediator role' in Middle East: Er...   \n",
       "5  Erdogan condemns US for punishing Palestinians...   \n",
       "6                              Erdogan and the Queen   \n",
       "7  Erdogan flies into Britain for talks on a new ...   \n",
       "8             Cyprus on agenda of Erdogan's UK visit   \n",
       "9  US 'part of the problem' in Israel-Palestine p...   \n",
       "\n",
       "                               Source Sentiment  Positive_score  \\\n",
       "0            World Socialist Web Site   NEUTRAL        0.007600   \n",
       "1                 Gatestone Institute   NEUTRAL        0.004511   \n",
       "2                            euronews   NEUTRAL        0.004886   \n",
       "3                       Express.co.uk   NEUTRAL        0.003366   \n",
       "4                      The Daily Star   NEUTRAL        0.009684   \n",
       "5  Hong Kong Standard (press release)   NEUTRAL        0.046232   \n",
       "6                          EUobserver   NEUTRAL        0.045549   \n",
       "7                           The Times   NEUTRAL        0.013340   \n",
       "8                         Cyprus Mail   NEUTRAL        0.007346   \n",
       "9                      Pakistan Today   NEUTRAL        0.015028   \n",
       "\n",
       "   Neutral_score  Negative_score  \n",
       "0       0.932895        0.056181  \n",
       "1       0.989984        0.004784  \n",
       "2       0.956987        0.036294  \n",
       "3       0.985740        0.010090  \n",
       "4       0.911310        0.074570  \n",
       "5       0.944054        0.007985  \n",
       "6       0.934725        0.017578  \n",
       "7       0.968026        0.016570  \n",
       "8       0.986278        0.005865  \n",
       "9       0.860330        0.117219  "
      ]
     },
     "execution_count": 19,
     "metadata": {},
     "output_type": "execute_result"
    }
   ],
   "source": [
    "NLP_Headlines.head(10)"
   ]
  },
  {
   "cell_type": "code",
   "execution_count": 20,
   "metadata": {},
   "outputs": [],
   "source": [
    "def nlp_key_words(hl_list):\n",
    "    key_words=[]\n",
    "    \n",
    "    for hl in hl_list:\n",
    "        per_hl=[]\n",
    "        result=nlp_engine.detect_key_phrases(Text=hl,LanguageCode='en')\n",
    "        key_words_list=result['KeyPhrases']\n",
    "        for key_word in key_words_list:\n",
    "            per_hl.append(key_word['Text'])\n",
    "        key_words.append(per_hl)\n",
    "    \n",
    "    return (key_words)\n",
    "\n"
   ]
  },
  {
   "cell_type": "code",
   "execution_count": 21,
   "metadata": {},
   "outputs": [],
   "source": [
    "key_words=nlp_key_words(nlp_input)"
   ]
  },
  {
   "cell_type": "code",
   "execution_count": 22,
   "metadata": {},
   "outputs": [],
   "source": [
    "NLP_Headlines[\"Key_words\"]=key_words"
   ]
  },
  {
   "cell_type": "code",
   "execution_count": 23,
   "metadata": {},
   "outputs": [
    {
     "data": {
      "text/html": [
       "<div>\n",
       "<style scoped>\n",
       "    .dataframe tbody tr th:only-of-type {\n",
       "        vertical-align: middle;\n",
       "    }\n",
       "\n",
       "    .dataframe tbody tr th {\n",
       "        vertical-align: top;\n",
       "    }\n",
       "\n",
       "    .dataframe thead th {\n",
       "        text-align: right;\n",
       "    }\n",
       "</style>\n",
       "<table border=\"1\" class=\"dataframe\">\n",
       "  <thead>\n",
       "    <tr style=\"text-align: right;\">\n",
       "      <th></th>\n",
       "      <th>Headline</th>\n",
       "      <th>Source</th>\n",
       "      <th>Sentiment</th>\n",
       "      <th>Positive_score</th>\n",
       "      <th>Neutral_score</th>\n",
       "      <th>Negative_score</th>\n",
       "      <th>Key_words</th>\n",
       "    </tr>\n",
       "  </thead>\n",
       "  <tbody>\n",
       "    <tr>\n",
       "      <th>0</th>\n",
       "      <td>US withdrawal from Iran nuclear deal drives An...</td>\n",
       "      <td>World Socialist Web Site</td>\n",
       "      <td>NEUTRAL</td>\n",
       "      <td>0.007600</td>\n",
       "      <td>0.932895</td>\n",
       "      <td>0.056181</td>\n",
       "      <td>[US withdrawal, Iran nuclear deal, Ankara]</td>\n",
       "    </tr>\n",
       "    <tr>\n",
       "      <th>1</th>\n",
       "      <td>Turkey: Erdogan's Islamist \"Family Engineering\"</td>\n",
       "      <td>Gatestone Institute</td>\n",
       "      <td>NEUTRAL</td>\n",
       "      <td>0.004511</td>\n",
       "      <td>0.989984</td>\n",
       "      <td>0.004784</td>\n",
       "      <td>[Turkey, Erdogan, Islamist \"Family Engineering]</td>\n",
       "    </tr>\n",
       "    <tr>\n",
       "      <th>2</th>\n",
       "      <td>Erdogan begins three-day visit to Britain</td>\n",
       "      <td>euronews</td>\n",
       "      <td>NEUTRAL</td>\n",
       "      <td>0.004886</td>\n",
       "      <td>0.956987</td>\n",
       "      <td>0.036294</td>\n",
       "      <td>[Erdogan, three-day visit]</td>\n",
       "    </tr>\n",
       "    <tr>\n",
       "      <th>3</th>\n",
       "      <td>Kurdish protesters spark violent clash with po...</td>\n",
       "      <td>Express.co.uk</td>\n",
       "      <td>NEUTRAL</td>\n",
       "      <td>0.003366</td>\n",
       "      <td>0.985740</td>\n",
       "      <td>0.010090</td>\n",
       "      <td>[Kurdish protesters, violent clash, police, Tu...</td>\n",
       "    </tr>\n",
       "    <tr>\n",
       "      <th>4</th>\n",
       "      <td>US has lost 'mediator role' in Middle East: Er...</td>\n",
       "      <td>The Daily Star</td>\n",
       "      <td>NEUTRAL</td>\n",
       "      <td>0.009684</td>\n",
       "      <td>0.911310</td>\n",
       "      <td>0.074570</td>\n",
       "      <td>[mediator role, Middle East]</td>\n",
       "    </tr>\n",
       "    <tr>\n",
       "      <th>5</th>\n",
       "      <td>Erdogan condemns US for punishing Palestinians...</td>\n",
       "      <td>Hong Kong Standard (press release)</td>\n",
       "      <td>NEUTRAL</td>\n",
       "      <td>0.046232</td>\n",
       "      <td>0.944054</td>\n",
       "      <td>0.007985</td>\n",
       "      <td>[Erdogan, Palestinians]</td>\n",
       "    </tr>\n",
       "    <tr>\n",
       "      <th>6</th>\n",
       "      <td>Erdogan and the Queen</td>\n",
       "      <td>EUobserver</td>\n",
       "      <td>NEUTRAL</td>\n",
       "      <td>0.045549</td>\n",
       "      <td>0.934725</td>\n",
       "      <td>0.017578</td>\n",
       "      <td>[Erdogan]</td>\n",
       "    </tr>\n",
       "    <tr>\n",
       "      <th>7</th>\n",
       "      <td>Erdogan flies into Britain for talks on a new ...</td>\n",
       "      <td>The Times</td>\n",
       "      <td>NEUTRAL</td>\n",
       "      <td>0.013340</td>\n",
       "      <td>0.968026</td>\n",
       "      <td>0.016570</td>\n",
       "      <td>[Erdogan, Britain, talks]</td>\n",
       "    </tr>\n",
       "    <tr>\n",
       "      <th>8</th>\n",
       "      <td>Cyprus on agenda of Erdogan's UK visit</td>\n",
       "      <td>Cyprus Mail</td>\n",
       "      <td>NEUTRAL</td>\n",
       "      <td>0.007346</td>\n",
       "      <td>0.986278</td>\n",
       "      <td>0.005865</td>\n",
       "      <td>[Cyprus, agenda, Erdogan, UK]</td>\n",
       "    </tr>\n",
       "    <tr>\n",
       "      <th>9</th>\n",
       "      <td>US 'part of the problem' in Israel-Palestine p...</td>\n",
       "      <td>Pakistan Today</td>\n",
       "      <td>NEUTRAL</td>\n",
       "      <td>0.015028</td>\n",
       "      <td>0.860330</td>\n",
       "      <td>0.117219</td>\n",
       "      <td>['part, the problem, Israel-Palestine peace pr...</td>\n",
       "    </tr>\n",
       "  </tbody>\n",
       "</table>\n",
       "</div>"
      ],
      "text/plain": [
       "                                            Headline  \\\n",
       "0  US withdrawal from Iran nuclear deal drives An...   \n",
       "1    Turkey: Erdogan's Islamist \"Family Engineering\"   \n",
       "2          Erdogan begins three-day visit to Britain   \n",
       "3  Kurdish protesters spark violent clash with po...   \n",
       "4  US has lost 'mediator role' in Middle East: Er...   \n",
       "5  Erdogan condemns US for punishing Palestinians...   \n",
       "6                              Erdogan and the Queen   \n",
       "7  Erdogan flies into Britain for talks on a new ...   \n",
       "8             Cyprus on agenda of Erdogan's UK visit   \n",
       "9  US 'part of the problem' in Israel-Palestine p...   \n",
       "\n",
       "                               Source Sentiment  Positive_score  \\\n",
       "0            World Socialist Web Site   NEUTRAL        0.007600   \n",
       "1                 Gatestone Institute   NEUTRAL        0.004511   \n",
       "2                            euronews   NEUTRAL        0.004886   \n",
       "3                       Express.co.uk   NEUTRAL        0.003366   \n",
       "4                      The Daily Star   NEUTRAL        0.009684   \n",
       "5  Hong Kong Standard (press release)   NEUTRAL        0.046232   \n",
       "6                          EUobserver   NEUTRAL        0.045549   \n",
       "7                           The Times   NEUTRAL        0.013340   \n",
       "8                         Cyprus Mail   NEUTRAL        0.007346   \n",
       "9                      Pakistan Today   NEUTRAL        0.015028   \n",
       "\n",
       "   Neutral_score  Negative_score  \\\n",
       "0       0.932895        0.056181   \n",
       "1       0.989984        0.004784   \n",
       "2       0.956987        0.036294   \n",
       "3       0.985740        0.010090   \n",
       "4       0.911310        0.074570   \n",
       "5       0.944054        0.007985   \n",
       "6       0.934725        0.017578   \n",
       "7       0.968026        0.016570   \n",
       "8       0.986278        0.005865   \n",
       "9       0.860330        0.117219   \n",
       "\n",
       "                                           Key_words  \n",
       "0         [US withdrawal, Iran nuclear deal, Ankara]  \n",
       "1    [Turkey, Erdogan, Islamist \"Family Engineering]  \n",
       "2                         [Erdogan, three-day visit]  \n",
       "3  [Kurdish protesters, violent clash, police, Tu...  \n",
       "4                       [mediator role, Middle East]  \n",
       "5                            [Erdogan, Palestinians]  \n",
       "6                                          [Erdogan]  \n",
       "7                          [Erdogan, Britain, talks]  \n",
       "8                      [Cyprus, agenda, Erdogan, UK]  \n",
       "9  ['part, the problem, Israel-Palestine peace pr...  "
      ]
     },
     "execution_count": 23,
     "metadata": {},
     "output_type": "execute_result"
    }
   ],
   "source": [
    "NLP_Headlines.head(10)"
   ]
  },
  {
   "cell_type": "code",
   "execution_count": 24,
   "metadata": {},
   "outputs": [],
   "source": [
    "NLP_Headlines.to_csv('/Users/olgayangol/Desktop/git_proj/News_NLP_analysis/NLP_headlines_05142018.csv')"
   ]
  },
  {
   "cell_type": "code",
   "execution_count": 25,
   "metadata": {},
   "outputs": [],
   "source": [
    "translate_engine=boto3.client(service_name=\"translate\",region_name=\"us-east-1\")"
   ]
  },
  {
   "cell_type": "code",
   "execution_count": 32,
   "metadata": {},
   "outputs": [],
   "source": [
    "result=translate_engine.translate_text(Text=\"Hello, World\",SourceLanguageCode=\"en\",TargetLanguageCode=\"fr\")"
   ]
  },
  {
   "cell_type": "code",
   "execution_count": 27,
   "metadata": {},
   "outputs": [
    {
     "name": "stdout",
     "output_type": "stream",
     "text": [
      "TranslatedText: Bonjour, Monde\n",
      "SourceLanguageCode: en\n",
      "TargetLanguageCode: fr\n"
     ]
    }
   ],
   "source": [
    "print('TranslatedText: ' + result.get('TranslatedText'))\n",
    "print('SourceLanguageCode: ' + result.get('SourceLanguageCode'))\n",
    "print('TargetLanguageCode: ' + result.get('TargetLanguageCode'))"
   ]
  },
  {
   "cell_type": "code",
   "execution_count": 36,
   "metadata": {},
   "outputs": [],
   "source": [
    "result=translate_engine.translate_text(Text=\"Hello, World\",SourceLanguageCode=\"en\",TargetLanguageCode=\"zh\")"
   ]
  },
  {
   "cell_type": "code",
   "execution_count": 37,
   "metadata": {},
   "outputs": [
    {
     "name": "stdout",
     "output_type": "stream",
     "text": [
      "TranslatedText: 您好，世界\n",
      "SourceLanguageCode: en\n",
      "TargetLanguageCode: zh\n"
     ]
    }
   ],
   "source": [
    "print('TranslatedText: ' + result.get('TranslatedText'))\n",
    "print('SourceLanguageCode: ' + result.get('SourceLanguageCode'))\n",
    "print('TargetLanguageCode: ' + result.get('TargetLanguageCode'))"
   ]
  },
  {
   "cell_type": "code",
   "execution_count": 38,
   "metadata": {},
   "outputs": [],
   "source": [
    "result=translate_engine.translate_text(Text=\"Hello, World\",SourceLanguageCode=\"en\",TargetLanguageCode=\"pt\")"
   ]
  },
  {
   "cell_type": "code",
   "execution_count": 39,
   "metadata": {},
   "outputs": [
    {
     "name": "stdout",
     "output_type": "stream",
     "text": [
      "TranslatedText: Olá, Mundo\n",
      "SourceLanguageCode: en\n",
      "TargetLanguageCode: pt\n"
     ]
    }
   ],
   "source": [
    "print('TranslatedText: ' + result.get('TranslatedText'))\n",
    "print('SourceLanguageCode: ' + result.get('SourceLanguageCode'))\n",
    "print('TargetLanguageCode: ' + result.get('TargetLanguageCode'))"
   ]
  },
  {
   "cell_type": "code",
   "execution_count": 28,
   "metadata": {},
   "outputs": [],
   "source": [
    "Candidate_hl=pd.read_csv('/Users/olgayangol/Desktop/git_proj/News_NLP_analysis/hl_Ince_05122018_tr.csv',encoding=\"ISO-8859-1\")"
   ]
  },
  {
   "cell_type": "code",
   "execution_count": 30,
   "metadata": {},
   "outputs": [
    {
     "data": {
      "text/html": [
       "<div>\n",
       "<style scoped>\n",
       "    .dataframe tbody tr th:only-of-type {\n",
       "        vertical-align: middle;\n",
       "    }\n",
       "\n",
       "    .dataframe tbody tr th {\n",
       "        vertical-align: top;\n",
       "    }\n",
       "\n",
       "    .dataframe thead th {\n",
       "        text-align: right;\n",
       "    }\n",
       "</style>\n",
       "<table border=\"1\" class=\"dataframe\">\n",
       "  <thead>\n",
       "    <tr style=\"text-align: right;\">\n",
       "      <th></th>\n",
       "      <th>Headline</th>\n",
       "      <th>Source</th>\n",
       "    </tr>\n",
       "  </thead>\n",
       "  <tbody>\n",
       "    <tr>\n",
       "      <th>0</th>\n",
       "      <td>Muharrem Ä°nce: Devlet intikamla yÃ¶netilmez</td>\n",
       "      <td>HabertÃ¼rk</td>\n",
       "    </tr>\n",
       "    <tr>\n",
       "      <th>1</th>\n",
       "      <td>AK Parti SÃ¶zcÃ¼sÃ¼ Ãnal'dan Muharrem Ä°nce'y...</td>\n",
       "      <td>TRT Haber</td>\n",
       "    </tr>\n",
       "    <tr>\n",
       "      <th>2</th>\n",
       "      <td>Ä°nce'den ErdoÄan'a: SattÄ±klarÄ±nÄ±n hesabÄ±...</td>\n",
       "      <td>Diken</td>\n",
       "    </tr>\n",
       "    <tr>\n",
       "      <th>3</th>\n",
       "      <td>âDevlet intikam ve rÃ¶vanÅla yÃ¶netilmezâ</td>\n",
       "      <td>DÃ¼nya Gazetesi</td>\n",
       "    </tr>\n",
       "    <tr>\n",
       "      <th>4</th>\n",
       "      <td>CHP CumhurbaÅkanÄ± AdayÄ± Muharrem Ä°nce, Den...</td>\n",
       "      <td>TRT Haber</td>\n",
       "    </tr>\n",
       "    <tr>\n",
       "      <th>5</th>\n",
       "      <td>Ä°nce: AdayÄ±n biri hapiste diÄerleri propaga...</td>\n",
       "      <td>CNN TÃ¼rk</td>\n",
       "    </tr>\n",
       "    <tr>\n",
       "      <th>6</th>\n",
       "      <td>CHP'nin cumhurbaÅkanÄ± adayÄ± Muharrem Ä°nce:...</td>\n",
       "      <td>Anadolu AjansÄ±</td>\n",
       "    </tr>\n",
       "    <tr>\n",
       "      <th>7</th>\n",
       "      <td>Muharrem Ä°nce Denizli'de miting yaptÄ±</td>\n",
       "      <td>Ä°hlas Haber AjansÄ±</td>\n",
       "    </tr>\n",
       "    <tr>\n",
       "      <th>8</th>\n",
       "      <td>AK Parti'den Ä°nce-AkÅener ittifakÄ± aÃ§Ä±kla...</td>\n",
       "      <td>Haber7.com</td>\n",
       "    </tr>\n",
       "    <tr>\n",
       "      <th>9</th>\n",
       "      <td>Ä°nce: Herkesin cumhurbaÅkanÄ± olacaÄÄ±m</td>\n",
       "      <td>Vatan</td>\n",
       "    </tr>\n",
       "  </tbody>\n",
       "</table>\n",
       "</div>"
      ],
      "text/plain": [
       "                                            Headline                Source\n",
       "0       Muharrem Ä°nce: Devlet intikamla yÃ¶netilmez            HabertÃ¼rk\n",
       "1  AK Parti SÃ¶zcÃ¼sÃ¼ Ãnal'dan Muharrem Ä°nce'y...             TRT Haber\n",
       "2  Ä°nce'den ErdoÄan'a: SattÄ±klarÄ±nÄ±n hesabÄ±...                 Diken\n",
       "3     âDevlet intikam ve rÃ¶vanÅla yÃ¶netilmezâ       DÃ¼nya Gazetesi\n",
       "4  CHP CumhurbaÅkanÄ± AdayÄ± Muharrem Ä°nce, Den...             TRT Haber\n",
       "5  Ä°nce: AdayÄ±n biri hapiste diÄerleri propaga...             CNN TÃ¼rk\n",
       "6  CHP'nin cumhurbaÅkanÄ± adayÄ± Muharrem Ä°nce:...       Anadolu AjansÄ±\n",
       "7            Muharrem Ä°nce Denizli'de miting yaptÄ±  Ä°hlas Haber AjansÄ±\n",
       "8  AK Parti'den Ä°nce-AkÅener ittifakÄ± aÃ§Ä±kla...            Haber7.com\n",
       "9         Ä°nce: Herkesin cumhurbaÅkanÄ± olacaÄÄ±m                 Vatan"
      ]
     },
     "execution_count": 30,
     "metadata": {},
     "output_type": "execute_result"
    }
   ],
   "source": [
    "Candidate_hl.head(10)"
   ]
  },
  {
   "cell_type": "code",
   "execution_count": 40,
   "metadata": {},
   "outputs": [],
   "source": [
    "def translate(hl_list,source_lan,target_lan):\n",
    "    translated_list=[]\n",
    "    for hl in hl_list:\n",
    "        result=translate_engine.translate_text(Text=hl,SourceLanguageCode=source_lan,TargetLanguageCode=target_lan)\n",
    "        translated_list.append(result.get('TranslatedText'))\n",
    "    return (translated_list)"
   ]
  },
  {
   "cell_type": "code",
   "execution_count": 42,
   "metadata": {},
   "outputs": [],
   "source": [
    "test_list=[\"un\",\"deux\",\"trois\"]\n",
    "source=\"fr\"\n",
    "target=\"en\"\n",
    "result=translate(test_list,source, target)"
   ]
  },
  {
   "cell_type": "code",
   "execution_count": null,
   "metadata": {},
   "outputs": [],
   "source": []
  }
 ],
 "metadata": {
  "kernelspec": {
   "display_name": "Python 3",
   "language": "python",
   "name": "python3"
  },
  "language_info": {
   "codemirror_mode": {
    "name": "ipython",
    "version": 3
   },
   "file_extension": ".py",
   "mimetype": "text/x-python",
   "name": "python",
   "nbconvert_exporter": "python",
   "pygments_lexer": "ipython3",
   "version": "3.6.4"
  }
 },
 "nbformat": 4,
 "nbformat_minor": 2
}
