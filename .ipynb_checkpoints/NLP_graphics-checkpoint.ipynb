{
 "cells": [
  {
   "cell_type": "code",
   "execution_count": 227,
   "metadata": {},
   "outputs": [],
   "source": [
    "%matplotlib inline "
   ]
  },
  {
   "cell_type": "code",
   "execution_count": 228,
   "metadata": {},
   "outputs": [],
   "source": [
    "import pandas as pd\n",
    "import numpy as np\n",
    "#import matplotlib.pylab as plt\n",
    "from matplotlib import pyplot as plt\n",
    "import seaborn as sns\n",
    "plt.style.use('ggplot')"
   ]
  },
  {
   "cell_type": "code",
   "execution_count": 229,
   "metadata": {},
   "outputs": [],
   "source": [
    "df_05102018=pd.read_csv('/Users/olgayangol/Desktop/git_proj/News_NLP_analysis/NLP_results/NLP_headlines_05102018.csv')"
   ]
  },
  {
   "cell_type": "code",
   "execution_count": 230,
   "metadata": {},
   "outputs": [
    {
     "data": {
      "text/html": [
       "<div>\n",
       "<style scoped>\n",
       "    .dataframe tbody tr th:only-of-type {\n",
       "        vertical-align: middle;\n",
       "    }\n",
       "\n",
       "    .dataframe tbody tr th {\n",
       "        vertical-align: top;\n",
       "    }\n",
       "\n",
       "    .dataframe thead th {\n",
       "        text-align: right;\n",
       "    }\n",
       "</style>\n",
       "<table border=\"1\" class=\"dataframe\">\n",
       "  <thead>\n",
       "    <tr style=\"text-align: right;\">\n",
       "      <th></th>\n",
       "      <th>Unnamed: 0</th>\n",
       "      <th>Headline</th>\n",
       "      <th>Source</th>\n",
       "      <th>Sentiment</th>\n",
       "      <th>Positive_score</th>\n",
       "      <th>Neutral_score</th>\n",
       "      <th>Negative_score</th>\n",
       "      <th>Key_words</th>\n",
       "    </tr>\n",
       "  </thead>\n",
       "  <tbody>\n",
       "    <tr>\n",
       "      <th>0</th>\n",
       "      <td>0</td>\n",
       "      <td>Erdogan vows to quit when 'enough', sparks Twi...</td>\n",
       "      <td>News24</td>\n",
       "      <td>NEUTRAL</td>\n",
       "      <td>0.004596</td>\n",
       "      <td>0.885127</td>\n",
       "      <td>0.105157</td>\n",
       "      <td>['Erdogan']</td>\n",
       "    </tr>\n",
       "    <tr>\n",
       "      <th>1</th>\n",
       "      <td>1</td>\n",
       "      <td>Erdogan speech in Turkey backfires, leading to...</td>\n",
       "      <td>CBC.ca</td>\n",
       "      <td>NEUTRAL</td>\n",
       "      <td>0.015909</td>\n",
       "      <td>0.961792</td>\n",
       "      <td>0.019723</td>\n",
       "      <td>['Erdogan speech', 'Turkey', 'widespread']</td>\n",
       "    </tr>\n",
       "    <tr>\n",
       "      <th>2</th>\n",
       "      <td>2</td>\n",
       "      <td>I'll step aside when Turkey says 'enough', say...</td>\n",
       "      <td>euronews</td>\n",
       "      <td>NEUTRAL</td>\n",
       "      <td>0.072909</td>\n",
       "      <td>0.871536</td>\n",
       "      <td>0.044632</td>\n",
       "      <td>['Turkey', 'Erdogan', 'Twitter']</td>\n",
       "    </tr>\n",
       "  </tbody>\n",
       "</table>\n",
       "</div>"
      ],
      "text/plain": [
       "   Unnamed: 0                                           Headline    Source  \\\n",
       "0           0  Erdogan vows to quit when 'enough', sparks Twi...    News24   \n",
       "1           1  Erdogan speech in Turkey backfires, leading to...    CBC.ca   \n",
       "2           2  I'll step aside when Turkey says 'enough', say...  euronews   \n",
       "\n",
       "  Sentiment  Positive_score  Neutral_score  Negative_score  \\\n",
       "0   NEUTRAL        0.004596       0.885127        0.105157   \n",
       "1   NEUTRAL        0.015909       0.961792        0.019723   \n",
       "2   NEUTRAL        0.072909       0.871536        0.044632   \n",
       "\n",
       "                                    Key_words  \n",
       "0                                 ['Erdogan']  \n",
       "1  ['Erdogan speech', 'Turkey', 'widespread']  \n",
       "2            ['Turkey', 'Erdogan', 'Twitter']  "
      ]
     },
     "execution_count": 230,
     "metadata": {},
     "output_type": "execute_result"
    }
   ],
   "source": [
    "df_05102018.head(3)"
   ]
  },
  {
   "cell_type": "code",
   "execution_count": 6,
   "metadata": {},
   "outputs": [
    {
     "data": {
      "text/plain": [
       "NEUTRAL     131\n",
       "POSITIVE      2\n",
       "NEGATIVE      1\n",
       "Name: Sentiment, dtype: int64"
      ]
     },
     "execution_count": 6,
     "metadata": {},
     "output_type": "execute_result"
    }
   ],
   "source": [
    "df_05102018['Sentiment'].value_counts()"
   ]
  },
  {
   "cell_type": "code",
   "execution_count": 7,
   "metadata": {},
   "outputs": [
    {
     "data": {
      "text/html": [
       "<div>\n",
       "<style scoped>\n",
       "    .dataframe tbody tr th:only-of-type {\n",
       "        vertical-align: middle;\n",
       "    }\n",
       "\n",
       "    .dataframe tbody tr th {\n",
       "        vertical-align: top;\n",
       "    }\n",
       "\n",
       "    .dataframe thead th {\n",
       "        text-align: right;\n",
       "    }\n",
       "</style>\n",
       "<table border=\"1\" class=\"dataframe\">\n",
       "  <thead>\n",
       "    <tr style=\"text-align: right;\">\n",
       "      <th></th>\n",
       "      <th>Unnamed: 0</th>\n",
       "      <th>Headline</th>\n",
       "      <th>Source</th>\n",
       "      <th>Sentiment</th>\n",
       "      <th>Positive_score</th>\n",
       "      <th>Neutral_score</th>\n",
       "      <th>Negative_score</th>\n",
       "      <th>Key_words</th>\n",
       "    </tr>\n",
       "  </thead>\n",
       "  <tbody>\n",
       "    <tr>\n",
       "      <th>30</th>\n",
       "      <td>30</td>\n",
       "      <td>Turkey's Perfect Path to Autocracy</td>\n",
       "      <td>Carnegie Europe</td>\n",
       "      <td>POSITIVE</td>\n",
       "      <td>0.671527</td>\n",
       "      <td>0.322037</td>\n",
       "      <td>0.001702</td>\n",
       "      <td>['Turkey', 'Perfect Path']</td>\n",
       "    </tr>\n",
       "    <tr>\n",
       "      <th>74</th>\n",
       "      <td>74</td>\n",
       "      <td>Make Turkey great again: Erdogan trumpets more...</td>\n",
       "      <td>RT</td>\n",
       "      <td>POSITIVE</td>\n",
       "      <td>0.542029</td>\n",
       "      <td>0.431542</td>\n",
       "      <td>0.010813</td>\n",
       "      <td>['Turkey', 'Erdogan', 'more Syria ops', '100%'...</td>\n",
       "    </tr>\n",
       "  </tbody>\n",
       "</table>\n",
       "</div>"
      ],
      "text/plain": [
       "    Unnamed: 0                                           Headline  \\\n",
       "30          30                 Turkey's Perfect Path to Autocracy   \n",
       "74          74  Make Turkey great again: Erdogan trumpets more...   \n",
       "\n",
       "             Source Sentiment  Positive_score  Neutral_score  Negative_score  \\\n",
       "30  Carnegie Europe  POSITIVE        0.671527       0.322037        0.001702   \n",
       "74               RT  POSITIVE        0.542029       0.431542        0.010813   \n",
       "\n",
       "                                            Key_words  \n",
       "30                         ['Turkey', 'Perfect Path']  \n",
       "74  ['Turkey', 'Erdogan', 'more Syria ops', '100%'...  "
      ]
     },
     "execution_count": 7,
     "metadata": {},
     "output_type": "execute_result"
    }
   ],
   "source": [
    "df_05102018.loc[df_05102018.Sentiment=='POSITIVE']"
   ]
  },
  {
   "cell_type": "code",
   "execution_count": 8,
   "metadata": {},
   "outputs": [
    {
     "data": {
      "text/html": [
       "<div>\n",
       "<style scoped>\n",
       "    .dataframe tbody tr th:only-of-type {\n",
       "        vertical-align: middle;\n",
       "    }\n",
       "\n",
       "    .dataframe tbody tr th {\n",
       "        vertical-align: top;\n",
       "    }\n",
       "\n",
       "    .dataframe thead th {\n",
       "        text-align: right;\n",
       "    }\n",
       "</style>\n",
       "<table border=\"1\" class=\"dataframe\">\n",
       "  <thead>\n",
       "    <tr style=\"text-align: right;\">\n",
       "      <th></th>\n",
       "      <th>Unnamed: 0</th>\n",
       "      <th>Headline</th>\n",
       "      <th>Source</th>\n",
       "      <th>Sentiment</th>\n",
       "      <th>Positive_score</th>\n",
       "      <th>Neutral_score</th>\n",
       "      <th>Negative_score</th>\n",
       "      <th>Key_words</th>\n",
       "    </tr>\n",
       "  </thead>\n",
       "  <tbody>\n",
       "    <tr>\n",
       "      <th>58</th>\n",
       "      <td>58</td>\n",
       "      <td>Turkey's Syrian occupation may be self-defeating</td>\n",
       "      <td>Arab News</td>\n",
       "      <td>NEGATIVE</td>\n",
       "      <td>0.015728</td>\n",
       "      <td>0.453732</td>\n",
       "      <td>0.517423</td>\n",
       "      <td>['Turkey', 'Syrian occupation']</td>\n",
       "    </tr>\n",
       "  </tbody>\n",
       "</table>\n",
       "</div>"
      ],
      "text/plain": [
       "    Unnamed: 0                                          Headline     Source  \\\n",
       "58          58  Turkey's Syrian occupation may be self-defeating  Arab News   \n",
       "\n",
       "   Sentiment  Positive_score  Neutral_score  Negative_score  \\\n",
       "58  NEGATIVE        0.015728       0.453732        0.517423   \n",
       "\n",
       "                          Key_words  \n",
       "58  ['Turkey', 'Syrian occupation']  "
      ]
     },
     "execution_count": 8,
     "metadata": {},
     "output_type": "execute_result"
    }
   ],
   "source": [
    "df_05102018.loc[df_05102018.Sentiment=='NEGATIVE']"
   ]
  },
  {
   "cell_type": "code",
   "execution_count": 9,
   "metadata": {},
   "outputs": [
    {
     "data": {
      "text/plain": [
       "<matplotlib.axes._subplots.AxesSubplot at 0x1a0b1c2208>"
      ]
     },
     "execution_count": 9,
     "metadata": {},
     "output_type": "execute_result"
    },
    {
     "data": {
      "image/png": "[encoded data removed]",
      "text/plain": [
       "<matplotlib.figure.Figure at 0x1a0b1beba8>"
      ]
     },
     "metadata": {},
     "output_type": "display_data"
    }
   ],
   "source": [
    "sns.distplot(df_05102018['Positive_score'])"
   ]
  },
  {
   "cell_type": "code",
   "execution_count": 10,
   "metadata": {},
   "outputs": [],
   "source": [
    "score_df = df_05102018[['Positive_score','Negative_score']]\n",
    "score_df = score_df.loc[score_df.apply(lambda x: np.abs(x - x.mean()) / x.std() < 1).all(axis=1)]"
   ]
  },
  {
   "cell_type": "code",
   "execution_count": 207,
   "metadata": {},
   "outputs": [
    {
     "data": {
      "text/plain": [
       "Text(0.5,1,'NLP score')"
      ]
     },
     "execution_count": 207,
     "metadata": {},
     "output_type": "execute_result"
    },
    {
     "data": {
      "image/png": "[encoded data removed]",
      "text/plain": [
       "<matplotlib.figure.Figure at 0x105f35470>"
      ]
     },
     "metadata": {},
     "output_type": "display_data"
    }
   ],
   "source": [
    "plt.figure(figsize=(10,6))\n",
    "sns.distplot(score_df[\"Positive_score\"] , color=\"blue\",label=\"Positive score\")\n",
    "sns.distplot(score_df[\"Negative_score\"] , color=\"red\",label=\"Negative score\")\n",
    "plt.legend()\n",
    "plt.xlabel('')\n",
    "plt.title('NLP score')\n"
   ]
  },
  {
   "cell_type": "code",
   "execution_count": 61,
   "metadata": {},
   "outputs": [],
   "source": [
    "#movieGrid = sns.FacetGrid(df, col='color',hue='color',size=5)\n",
    "#movieGrid.map(sns.distplot,'imdb_score')"
   ]
  },
  {
   "cell_type": "code",
   "execution_count": 45,
   "metadata": {},
   "outputs": [],
   "source": [
    "?sns.FacetGrid()"
   ]
  },
  {
   "cell_type": "code",
   "execution_count": 205,
   "metadata": {},
   "outputs": [],
   "source": [
    "#df_05102018['Key_words'][1]"
   ]
  },
  {
   "cell_type": "code",
   "execution_count": 158,
   "metadata": {},
   "outputs": [],
   "source": [
    "#astring=df_05102018['Key_words'][1].strip('[]').replace(\"'\",\"\")"
   ]
  },
  {
   "cell_type": "code",
   "execution_count": 204,
   "metadata": {},
   "outputs": [],
   "source": [
    "#new_string=astring.split(',')"
   ]
  },
  {
   "cell_type": "code",
   "execution_count": 203,
   "metadata": {},
   "outputs": [],
   "source": [
    "#[x.strip() for x in new_string]"
   ]
  },
  {
   "cell_type": "code",
   "execution_count": 67,
   "metadata": {},
   "outputs": [],
   "source": [
    "#type(new_string)"
   ]
  },
  {
   "cell_type": "code",
   "execution_count": 163,
   "metadata": {},
   "outputs": [],
   "source": [
    "def convert_to_L(astring):\n",
    "    L=astring.strip().strip('[]').replace(\"'\",\"\").split(',')\n",
    "    return L\n",
    "    \n",
    "    "
   ]
  },
  {
   "cell_type": "code",
   "execution_count": 45,
   "metadata": {},
   "outputs": [],
   "source": [
    "#df_05102018['Key_words_L']=df_05102018.Key_words.map(convert_to_L)"
   ]
  },
  {
   "cell_type": "code",
   "execution_count": 164,
   "metadata": {},
   "outputs": [],
   "source": [
    "Series_of_lists=df_05102018['Key_words'].map(convert_to_L)"
   ]
  },
  {
   "cell_type": "code",
   "execution_count": 165,
   "metadata": {},
   "outputs": [],
   "source": [
    "#df_05102018['Key_words_L'][1]"
   ]
  },
  {
   "cell_type": "code",
   "execution_count": 60,
   "metadata": {},
   "outputs": [],
   "source": [
    "#nested_list=df_05102018['Key_words_L'].tolist()"
   ]
  },
  {
   "cell_type": "code",
   "execution_count": 166,
   "metadata": {},
   "outputs": [],
   "source": [
    "nested_list=Series_of_lists.tolist()"
   ]
  },
  {
   "cell_type": "code",
   "execution_count": 188,
   "metadata": {},
   "outputs": [],
   "source": [
    "key_word_list = [item.strip() for sublist in nested_list for item in sublist] #unpack and remove white spaces"
   ]
  },
  {
   "cell_type": "code",
   "execution_count": 190,
   "metadata": {},
   "outputs": [
    {
     "data": {
      "text/plain": [
       "['Erdogan',\n",
       " 'Erdogan speech',\n",
       " 'Turkey',\n",
       " 'widespread',\n",
       " 'Turkey',\n",
       " 'Erdogan',\n",
       " 'Twitter',\n",
       " 'Erdogan',\n",
       " 'the Turkish opposition',\n",
       " 'a catchy slogan',\n",
       " 'Erdogan',\n",
       " 'trends',\n",
       " 'Twitter',\n",
       " 'Turkey',\n",
       " 'President Erdogan',\n",
       " 're-election',\n",
       " 'my people',\n",
       " 'Turkish twitter hashtag',\n",
       " '\"Tamam\"',\n",
       " '\" trending\"',\n",
       " 'opposition',\n",
       " 'Serbia',\n",
       " 'Turkey',\n",
       " 'bridges',\n",
       " 'friendship',\n",
       " 'Erdoğan',\n",
       " 'the Turkish economy',\n",
       " 'shape',\n",
       " 'the post-election period',\n",
       " 'Incumbent president',\n",
       " 'first round',\n",
       " 'June 24',\n",
       " 'Turkey',\n",
       " 'polls',\n",
       " 'Tamam',\n",
       " 'opponents',\n",
       " 'top Twitter',\n",
       " 'bid',\n",
       " 'Turkey',\n",
       " 'Turkish Opposition Wants Erdogan',\n",
       " 'Ratings-Boosting Military',\n",
       " 'Thousands',\n",
       " 'Turkish president',\n",
       " '#TAMAM',\n",
       " 'Turkish social media',\n",
       " 'Erdoğan',\n",
       " 'Turkish social media',\n",
       " 'Erdoğan',\n",
       " 'Erdoğan',\n",
       " 'France',\n",
       " 'Erdogan',\n",
       " 'Turkey',\n",
       " 'new military operations',\n",
       " 'EP President Tajani',\n",
       " 'fair and free elections',\n",
       " 'Erdogan',\n",
       " 'Turkey',\n",
       " 'all military archives',\n",
       " 'Turk Cypriot journalist',\n",
       " 'the truth',\n",
       " 'Turkey',\n",
       " 'Erdogan',\n",
       " 'inflation',\n",
       " 'interest rates',\n",
       " 'Turkey',\n",
       " 'Erdoğan',\n",
       " 'main opposition',\n",
       " 'candidate',\n",
       " 'Erdoğan adviser',\n",
       " 'Lira',\n",
       " 'interest',\n",
       " 'Turkey elections',\n",
       " 'Abdullah Gul',\n",
       " 'bid',\n",
       " 'Erdogan',\n",
       " '[TAMAM]',\n",
       " 'One million tweets',\n",
       " 'Erdoğan',\n",
       " 'lira',\n",
       " 'attack',\n",
       " 'currency hits',\n",
       " 'Not voting AKP targets',\n",
       " 'Erdoğan and Islam',\n",
       " 'Erdoğan',\n",
       " 'French manifesto',\n",
       " 'Turkey',\n",
       " 'Perfect Path',\n",
       " 'A crucial turn',\n",
       " 'Erdogan',\n",
       " 'two-front challenge',\n",
       " 'secularists',\n",
       " 'Turkey',\n",
       " 'biggest country',\n",
       " 'Balkans',\n",
       " 'Erdogan',\n",
       " 'presidential candidate',\n",
       " 'Antonio Tajani appeals',\n",
       " 'elections',\n",
       " 'Turkey',\n",
       " 'No TV debate',\n",
       " 'other candidates',\n",
       " 'Turkey Vows',\n",
       " 'Launch Military Operations',\n",
       " 'US-Backed',\n",
       " 'Turkey',\n",
       " 'Erdoğan',\n",
       " 'Bosnia',\n",
       " 'Erdogan',\n",
       " 'main Turkey opposition',\n",
       " 'TV debate',\n",
       " 'Turkey',\n",
       " 'Erdogan',\n",
       " 'Bosnia',\n",
       " 'Erdogan',\n",
       " 'West',\n",
       " 'Turkey',\n",
       " 'position',\n",
       " 'Turkey',\n",
       " 'your level',\n",
       " 'Erdoğan',\n",
       " 'a president',\n",
       " 'Turkey Resists Western Plans',\n",
       " 'Create Crisis',\n",
       " 'Instability',\n",
       " 'Erdogan-Vucic',\n",
       " 'strong ties',\n",
       " 'Turkey',\n",
       " 'President Vows',\n",
       " 'Turkish Opposition Parties',\n",
       " 'Alliance',\n",
       " 'Bid',\n",
       " 'Curb Erdogan',\n",
       " 'Turkish charity',\n",
       " '20 trucks',\n",
       " 'aid',\n",
       " 'Turkey',\n",
       " 'Ruling AK Party Unveils',\n",
       " 'Turkey',\n",
       " 'old guard',\n",
       " 'Secular candidate',\n",
       " 'Erdogan',\n",
       " 'West',\n",
       " 'Turkey',\n",
       " 'position',\n",
       " 'Balkans',\n",
       " 'Erdogan Unveils Election',\n",
       " 'Understanding Authoritarianism',\n",
       " 'Turkey',\n",
       " 'Serbia cooperation',\n",
       " 'Opposition',\n",
       " 'Presidential Candidate Ince Promises',\n",
       " 'bold',\n",
       " '\" Steps\"',\n",
       " 'Turkey',\n",
       " 'Syrian occupation',\n",
       " '',\n",
       " 'US arms sales',\n",
       " 'allies',\n",
       " 'Syria',\n",
       " 'Pro-govt paper',\n",
       " 'Times article',\n",
       " 'United opposition leaders',\n",
       " '\" call\"',\n",
       " 'TV debate',\n",
       " 'Turkish President',\n",
       " 'Erdogan',\n",
       " 'opposition call',\n",
       " 'Erdogan',\n",
       " 'Turkey',\n",
       " 'Serbia',\n",
       " '$5B',\n",
       " 'trade volume',\n",
       " 'Erdoğan',\n",
       " 'Turkey',\n",
       " 'more cross-border military operations',\n",
       " 'Pro-EU rhetoric',\n",
       " 'crackdown',\n",
       " 'Turkey Slams EU',\n",
       " 'Failure',\n",
       " 'Erdoğan',\n",
       " 'Serbia',\n",
       " '\"key country\"',\n",
       " 'stability',\n",
       " 'Erdogan Slams EU',\n",
       " 'Failure',\n",
       " 'Erdogan',\n",
       " 'international community',\n",
       " 'apathy',\n",
       " 'Europe',\n",
       " '\" Turkey\"',\n",
       " 'collision course',\n",
       " 'EU',\n",
       " 'Erdogan',\n",
       " 'Vucic',\n",
       " 'Serbia',\n",
       " 'Turkey',\n",
       " 'Erdogan',\n",
       " 'more Syria ops',\n",
       " '100%',\n",
       " 'local arms',\n",
       " 'Turkish presidential candidate İnce',\n",
       " 'article',\n",
       " 'insult',\n",
       " 'Relations',\n",
       " 'Serbia and Turkey',\n",
       " 'COMMENTARY — Turkey',\n",
       " 'troubles',\n",
       " 'the US',\n",
       " 'Turkey',\n",
       " 'elections',\n",
       " 'Erdogan',\n",
       " 'new military operation',\n",
       " 'Turkey',\n",
       " 'new cross-border military',\n",
       " 'Erdogan',\n",
       " 'Palestinian symbol',\n",
       " 'all the oppressed',\n",
       " 'Erdogan',\n",
       " 'electoral tricks',\n",
       " 'Erdogan',\n",
       " 'new military operations',\n",
       " 'the borders',\n",
       " 'Erdogan',\n",
       " 'more cross-border offensives',\n",
       " 'Erdogan',\n",
       " 'Turkey election rally',\n",
       " 'new action',\n",
       " 'Serbian President',\n",
       " 'Meet Erdogan',\n",
       " 'the Turkish opposition',\n",
       " 'tactics',\n",
       " 'Erdoğan work',\n",
       " 'Turkish opposition candidate',\n",
       " 'president',\n",
       " 'Erdogan',\n",
       " 'race',\n",
       " 'men',\n",
       " 'Turkey',\n",
       " 'snap elections',\n",
       " 'Darkening skies',\n",
       " 'Turkey',\n",
       " 'strongman',\n",
       " 'Erdogan',\n",
       " 'Elections',\n",
       " 'point',\n",
       " 'Serbian President Thanks Turkey',\n",
       " '“Stabilising Balkans”',\n",
       " 'Erdogan Slams Western Meddling',\n",
       " 'Erdoğan',\n",
       " 'manifesto',\n",
       " 'Erdogan',\n",
       " 'election message',\n",
       " 'Turkey',\n",
       " 'Turkey',\n",
       " 'pro-Kurdish HDP names',\n",
       " 'leader',\n",
       " 'Financial Times',\n",
       " 'Turkey',\n",
       " 'Jarablus',\n",
       " 'blueprint',\n",
       " 'role',\n",
       " 'agenda',\n",
       " 'President Erdogan Pledges',\n",
       " 'More Turkish Troops',\n",
       " 'Erdogan',\n",
       " 'EU accession',\n",
       " 'Erdoğan',\n",
       " 'the road',\n",
       " 'Erdoğan',\n",
       " 'election manifesto',\n",
       " 'More democracy',\n",
       " 'freedom',\n",
       " 'Opposition candidates',\n",
       " 'race Erdoğan',\n",
       " 'Erdogan',\n",
       " 'Serbia',\n",
       " '\"key country\"',\n",
       " 'Balkans',\n",
       " 'President Erdoğan',\n",
       " 'Turkey',\n",
       " 'Turkey',\n",
       " 'mainstream news channels',\n",
       " 'main opposition',\n",
       " 'Turkish opposition parties',\n",
       " 'alliance',\n",
       " 'Turkey',\n",
       " 'new operations',\n",
       " 'borders',\n",
       " 'terrorists',\n",
       " 'Manifesto Erdogan',\n",
       " 'Turkey',\n",
       " 'place',\n",
       " 'the top ten world',\n",
       " 'Qatar- Erdogan',\n",
       " 'TV debate',\n",
       " 'Europe and Turkey',\n",
       " 'the end',\n",
       " 'Turkey',\n",
       " 'opposition candidate',\n",
       " 'media embargo',\n",
       " 'terrorists',\n",
       " '\"neutralized\"',\n",
       " 'The world',\n",
       " 'Serbia',\n",
       " '\"key country\"',\n",
       " 'stability',\n",
       " 'election manifesto',\n",
       " 'Erdogan Guarantees new military',\n",
       " 'Serbia-Russia-Turkey…New Love Triangle',\n",
       " 'The Balkans Challenging',\n",
       " 'Four Turkish opposition parties',\n",
       " 'election manifesto',\n",
       " 'Erdogan',\n",
       " 'June 24 elections',\n",
       " 'new era',\n",
       " 'Turkey',\n",
       " 'Erdogan Vows New Offensive',\n",
       " 'Turkish so-called mainstream news channels',\n",
       " 'main opposition',\n",
       " 'terrorists',\n",
       " '\"neutralized\"',\n",
       " 'Erdogan',\n",
       " 'Serbian president',\n",
       " 'Turkey',\n",
       " 'Turkish President',\n",
       " 'more cross-border',\n",
       " 'President Erdogan',\n",
       " 'Turning Turkey',\n",
       " 'Putin',\n",
       " 'Qatar- Turkey',\n",
       " 'main opposition candidate',\n",
       " 'Turkey',\n",
       " 'A Golden Era',\n",
       " 'Serbia-Turkey Relations',\n",
       " 'That Mainstream and Alt-Media',\n",
       " 'Turkey',\n",
       " 'New Military Operations',\n",
       " 'Syria Offensives',\n",
       " 'Turkey',\n",
       " 'ESCALATE Syria WAR',\n",
       " 'terrorist',\n",
       " '\" Kurdish fighters\"',\n",
       " 'Erdogan',\n",
       " 'Turkish troops',\n",
       " 'Turkey Pushes',\n",
       " 'US Attempt',\n",
       " 'A lot',\n",
       " 'victims',\n",
       " 'Turkey',\n",
       " 'the headquarters']"
      ]
     },
     "execution_count": 190,
     "metadata": {},
     "output_type": "execute_result"
    }
   ],
   "source": [
    "key_word_list"
   ]
  },
  {
   "cell_type": "code",
   "execution_count": 195,
   "metadata": {},
   "outputs": [],
   "source": [
    "key_word_list_ex=[x for x in key_word_list if x not in {'Erdogan','Turkey','Erdoğan'}]"
   ]
  },
  {
   "cell_type": "code",
   "execution_count": 196,
   "metadata": {},
   "outputs": [
    {
     "data": {
      "text/plain": [
       "['Erdogan speech',\n",
       " 'widespread',\n",
       " 'Twitter',\n",
       " 'the Turkish opposition',\n",
       " 'a catchy slogan',\n",
       " 'trends',\n",
       " 'Twitter',\n",
       " 'President Erdogan',\n",
       " 're-election',\n",
       " 'my people',\n",
       " 'Turkish twitter hashtag',\n",
       " '\"Tamam\"',\n",
       " '\" trending\"',\n",
       " 'opposition',\n",
       " 'Serbia',\n",
       " 'bridges',\n",
       " 'friendship',\n",
       " 'the Turkish economy',\n",
       " 'shape',\n",
       " 'the post-election period',\n",
       " 'Incumbent president',\n",
       " 'first round',\n",
       " 'June 24',\n",
       " 'polls',\n",
       " 'Tamam',\n",
       " 'opponents',\n",
       " 'top Twitter',\n",
       " 'bid',\n",
       " 'Turkish Opposition Wants Erdogan',\n",
       " 'Ratings-Boosting Military',\n",
       " 'Thousands',\n",
       " 'Turkish president',\n",
       " '#TAMAM',\n",
       " 'Turkish social media',\n",
       " 'Turkish social media',\n",
       " 'France',\n",
       " 'new military operations',\n",
       " 'EP President Tajani',\n",
       " 'fair and free elections',\n",
       " 'all military archives',\n",
       " 'Turk Cypriot journalist',\n",
       " 'the truth',\n",
       " 'inflation',\n",
       " 'interest rates',\n",
       " 'main opposition',\n",
       " 'candidate',\n",
       " 'Erdoğan adviser',\n",
       " 'Lira',\n",
       " 'interest',\n",
       " 'Turkey elections',\n",
       " 'Abdullah Gul',\n",
       " 'bid',\n",
       " '[TAMAM]',\n",
       " 'One million tweets',\n",
       " 'lira',\n",
       " 'attack',\n",
       " 'currency hits',\n",
       " 'Not voting AKP targets',\n",
       " 'Erdoğan and Islam',\n",
       " 'French manifesto',\n",
       " 'Perfect Path',\n",
       " 'A crucial turn',\n",
       " 'two-front challenge',\n",
       " 'secularists',\n",
       " 'biggest country',\n",
       " 'Balkans',\n",
       " 'presidential candidate',\n",
       " 'Antonio Tajani appeals',\n",
       " 'elections',\n",
       " 'No TV debate',\n",
       " 'other candidates',\n",
       " 'Turkey Vows',\n",
       " 'Launch Military Operations',\n",
       " 'US-Backed',\n",
       " 'Bosnia',\n",
       " 'main Turkey opposition',\n",
       " 'TV debate',\n",
       " 'Bosnia',\n",
       " 'West',\n",
       " 'position',\n",
       " 'your level',\n",
       " 'a president',\n",
       " 'Turkey Resists Western Plans',\n",
       " 'Create Crisis',\n",
       " 'Instability',\n",
       " 'Erdogan-Vucic',\n",
       " 'strong ties',\n",
       " 'President Vows',\n",
       " 'Turkish Opposition Parties',\n",
       " 'Alliance',\n",
       " 'Bid',\n",
       " 'Curb Erdogan',\n",
       " 'Turkish charity',\n",
       " '20 trucks',\n",
       " 'aid',\n",
       " 'Ruling AK Party Unveils',\n",
       " 'old guard',\n",
       " 'Secular candidate',\n",
       " 'West',\n",
       " 'position',\n",
       " 'Balkans',\n",
       " 'Erdogan Unveils Election',\n",
       " 'Understanding Authoritarianism',\n",
       " 'Serbia cooperation',\n",
       " 'Opposition',\n",
       " 'Presidential Candidate Ince Promises',\n",
       " 'bold',\n",
       " '\" Steps\"',\n",
       " 'Syrian occupation',\n",
       " '',\n",
       " 'US arms sales',\n",
       " 'allies',\n",
       " 'Syria',\n",
       " 'Pro-govt paper',\n",
       " 'Times article',\n",
       " 'United opposition leaders',\n",
       " '\" call\"',\n",
       " 'TV debate',\n",
       " 'Turkish President',\n",
       " 'opposition call',\n",
       " 'Serbia',\n",
       " '$5B',\n",
       " 'trade volume',\n",
       " 'more cross-border military operations',\n",
       " 'Pro-EU rhetoric',\n",
       " 'crackdown',\n",
       " 'Turkey Slams EU',\n",
       " 'Failure',\n",
       " 'Serbia',\n",
       " '\"key country\"',\n",
       " 'stability',\n",
       " 'Erdogan Slams EU',\n",
       " 'Failure',\n",
       " 'international community',\n",
       " 'apathy',\n",
       " 'Europe',\n",
       " '\" Turkey\"',\n",
       " 'collision course',\n",
       " 'EU',\n",
       " 'Vucic',\n",
       " 'Serbia',\n",
       " 'more Syria ops',\n",
       " '100%',\n",
       " 'local arms',\n",
       " 'Turkish presidential candidate İnce',\n",
       " 'article',\n",
       " 'insult',\n",
       " 'Relations',\n",
       " 'Serbia and Turkey',\n",
       " 'COMMENTARY — Turkey',\n",
       " 'troubles',\n",
       " 'the US',\n",
       " 'elections',\n",
       " 'new military operation',\n",
       " 'new cross-border military',\n",
       " 'Palestinian symbol',\n",
       " 'all the oppressed',\n",
       " 'electoral tricks',\n",
       " 'new military operations',\n",
       " 'the borders',\n",
       " 'more cross-border offensives',\n",
       " 'Turkey election rally',\n",
       " 'new action',\n",
       " 'Serbian President',\n",
       " 'Meet Erdogan',\n",
       " 'the Turkish opposition',\n",
       " 'tactics',\n",
       " 'Erdoğan work',\n",
       " 'Turkish opposition candidate',\n",
       " 'president',\n",
       " 'race',\n",
       " 'men',\n",
       " 'snap elections',\n",
       " 'Darkening skies',\n",
       " 'strongman',\n",
       " 'Elections',\n",
       " 'point',\n",
       " 'Serbian President Thanks Turkey',\n",
       " '“Stabilising Balkans”',\n",
       " 'Erdogan Slams Western Meddling',\n",
       " 'manifesto',\n",
       " 'election message',\n",
       " 'pro-Kurdish HDP names',\n",
       " 'leader',\n",
       " 'Financial Times',\n",
       " 'Jarablus',\n",
       " 'blueprint',\n",
       " 'role',\n",
       " 'agenda',\n",
       " 'President Erdogan Pledges',\n",
       " 'More Turkish Troops',\n",
       " 'EU accession',\n",
       " 'the road',\n",
       " 'election manifesto',\n",
       " 'More democracy',\n",
       " 'freedom',\n",
       " 'Opposition candidates',\n",
       " 'race Erdoğan',\n",
       " 'Serbia',\n",
       " '\"key country\"',\n",
       " 'Balkans',\n",
       " 'President Erdoğan',\n",
       " 'mainstream news channels',\n",
       " 'main opposition',\n",
       " 'Turkish opposition parties',\n",
       " 'alliance',\n",
       " 'new operations',\n",
       " 'borders',\n",
       " 'terrorists',\n",
       " 'Manifesto Erdogan',\n",
       " 'place',\n",
       " 'the top ten world',\n",
       " 'Qatar- Erdogan',\n",
       " 'TV debate',\n",
       " 'Europe and Turkey',\n",
       " 'the end',\n",
       " 'opposition candidate',\n",
       " 'media embargo',\n",
       " 'terrorists',\n",
       " '\"neutralized\"',\n",
       " 'The world',\n",
       " 'Serbia',\n",
       " '\"key country\"',\n",
       " 'stability',\n",
       " 'election manifesto',\n",
       " 'Erdogan Guarantees new military',\n",
       " 'Serbia-Russia-Turkey…New Love Triangle',\n",
       " 'The Balkans Challenging',\n",
       " 'Four Turkish opposition parties',\n",
       " 'election manifesto',\n",
       " 'June 24 elections',\n",
       " 'new era',\n",
       " 'Erdogan Vows New Offensive',\n",
       " 'Turkish so-called mainstream news channels',\n",
       " 'main opposition',\n",
       " 'terrorists',\n",
       " '\"neutralized\"',\n",
       " 'Serbian president',\n",
       " 'Turkish President',\n",
       " 'more cross-border',\n",
       " 'President Erdogan',\n",
       " 'Turning Turkey',\n",
       " 'Putin',\n",
       " 'Qatar- Turkey',\n",
       " 'main opposition candidate',\n",
       " 'A Golden Era',\n",
       " 'Serbia-Turkey Relations',\n",
       " 'That Mainstream and Alt-Media',\n",
       " 'New Military Operations',\n",
       " 'Syria Offensives',\n",
       " 'ESCALATE Syria WAR',\n",
       " 'terrorist',\n",
       " '\" Kurdish fighters\"',\n",
       " 'Turkish troops',\n",
       " 'Turkey Pushes',\n",
       " 'US Attempt',\n",
       " 'A lot',\n",
       " 'victims',\n",
       " 'the headquarters']"
      ]
     },
     "execution_count": 196,
     "metadata": {},
     "output_type": "execute_result"
    }
   ],
   "source": [
    "key_word_list_ex"
   ]
  },
  {
   "cell_type": "code",
   "execution_count": 197,
   "metadata": {},
   "outputs": [],
   "source": [
    "key_word_series=pd.Series(key_word_list_ex)"
   ]
  },
  {
   "cell_type": "code",
   "execution_count": 198,
   "metadata": {},
   "outputs": [
    {
     "data": {
      "text/plain": [
       "Serbia                             6\n",
       "Balkans                            3\n",
       "TV debate                          3\n",
       "\"key country\"                      3\n",
       "terrorists                         3\n",
       "election manifesto                 3\n",
       "main opposition                    3\n",
       "Twitter                            2\n",
       "stability                          2\n",
       "\"neutralized\"                      2\n",
       "position                           2\n",
       "President Erdogan                  2\n",
       "Turkish President                  2\n",
       "Turkish social media               2\n",
       "new military operations            2\n",
       "bid                                2\n",
       "West                               2\n",
       "Failure                            2\n",
       "elections                          2\n",
       "Bosnia                             2\n",
       "the Turkish opposition             2\n",
       "the US                             1\n",
       "Turkish twitter hashtag            1\n",
       "Putin                              1\n",
       "currency hits                      1\n",
       "my people                          1\n",
       "Meet Erdogan                       1\n",
       "Manifesto Erdogan                  1\n",
       "race Erdoğan                       1\n",
       "Serbia and Turkey                  1\n",
       "                                  ..\n",
       "victims                            1\n",
       "the Turkish economy                1\n",
       "candidate                          1\n",
       "Turkish Opposition Parties         1\n",
       "freedom                            1\n",
       "US arms sales                      1\n",
       "terrorist                          1\n",
       "Curb Erdogan                       1\n",
       "biggest country                    1\n",
       "the road                           1\n",
       "Turkey Pushes                      1\n",
       "point                              1\n",
       "Launch Military Operations         1\n",
       "new era                            1\n",
       "The Balkans Challenging            1\n",
       "agenda                             1\n",
       "EP President Tajani                1\n",
       "Create Crisis                      1\n",
       "more cross-border offensives       1\n",
       "More democracy                     1\n",
       "US Attempt                         1\n",
       "Four Turkish opposition parties    1\n",
       "Vucic                              1\n",
       "the borders                        1\n",
       "\" trending\"                        1\n",
       "crackdown                          1\n",
       "Serbian President Thanks Turkey    1\n",
       "[TAMAM]                            1\n",
       "100%                               1\n",
       "the post-election period           1\n",
       "Length: 228, dtype: int64"
      ]
     },
     "execution_count": 198,
     "metadata": {},
     "output_type": "execute_result"
    }
   ],
   "source": [
    "key_word_series.value_counts()"
   ]
  },
  {
   "cell_type": "code",
   "execution_count": 199,
   "metadata": {},
   "outputs": [
    {
     "data": {
      "text/plain": [
       "pandas.core.series.Series"
      ]
     },
     "execution_count": 199,
     "metadata": {},
     "output_type": "execute_result"
    }
   ],
   "source": [
    "type(key_word_series.value_counts())"
   ]
  },
  {
   "cell_type": "code",
   "execution_count": 208,
   "metadata": {},
   "outputs": [],
   "source": [
    "df_key_word_counts=key_word_series.value_counts()"
   ]
  },
  {
   "cell_type": "code",
   "execution_count": 224,
   "metadata": {},
   "outputs": [
    {
     "data": {
      "text/plain": [
       "Text(0.5,1,'Key words')"
      ]
     },
     "execution_count": 224,
     "metadata": {},
     "output_type": "execute_result"
    },
    {
     "data": {
      "image/png": "[encoded data removed]",
      "text/plain": [
       "<matplotlib.figure.Figure at 0x1a1d1aa438>"
      ]
     },
     "metadata": {},
     "output_type": "display_data"
    }
   ],
   "source": [
    "plt.figure(figsize=(12,6))\n",
    "df_key_word_counts.head(10).plot.barh(color='skyblue')\n",
    "plt.title('Key words')"
   ]
  },
  {
   "cell_type": "code",
   "execution_count": null,
   "metadata": {},
   "outputs": [],
   "source": [
    "df_05102018=pd.read_csv('/Users/olgayangol/Desktop/git_proj/News_NLP_analysis/NLP_results/NLP_headlines_05102018.csv')\n"
   ]
  },
  {
   "cell_type": "code",
   "execution_count": 232,
   "metadata": {},
   "outputs": [
    {
     "data": {
      "text/plain": [
       "0.03"
      ]
     },
     "execution_count": 232,
     "metadata": {},
     "output_type": "execute_result"
    }
   ],
   "source": [
    "round(df_05102018['Positive_score'].mean(),2)"
   ]
  },
  {
   "cell_type": "code",
   "execution_count": 238,
   "metadata": {},
   "outputs": [
    {
     "data": {
      "text/plain": [
       "0.04"
      ]
     },
     "execution_count": 238,
     "metadata": {},
     "output_type": "execute_result"
    }
   ],
   "source": [
    "round(df_05102018['Negative_score'].mean(),2)"
   ]
  }
 ],
 "metadata": {
  "kernelspec": {
   "display_name": "Python 3",
   "language": "python",
   "name": "python3"
  },
  "language_info": {
   "codemirror_mode": {
    "name": "ipython",
    "version": 3
   },
   "file_extension": ".py",
   "mimetype": "text/x-python",
   "name": "python",
   "nbconvert_exporter": "python",
   "pygments_lexer": "ipython3",
   "version": "3.6.4"
  }
 },
 "nbformat": 4,
 "nbformat_minor": 2
}
