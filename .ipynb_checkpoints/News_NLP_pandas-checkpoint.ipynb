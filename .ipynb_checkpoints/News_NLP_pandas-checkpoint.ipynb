{
 "cells": [
  {
   "cell_type": "code",
   "execution_count": 18,
   "metadata": {},
   "outputs": [],
   "source": [
    "import numpy as np\n",
    "import pandas as pd\n",
    "import boto3\n",
    "\n",
    "file1=pd.read_csv('/Users/olgayangol/Desktop/git_proj/News_NLP_analysis/headlines_05092018.csv')\n",
    "file2=pd.read_csv('/Users/olgayangol/Desktop/git_proj/News_NLP_analysis/headlines_05112018.csv')"
   ]
  },
  {
   "cell_type": "code",
   "execution_count": 13,
   "metadata": {},
   "outputs": [],
   "source": [
    "\n",
    "Headlines = pd.concat([file1,file2],axis=0).reset_index()\n"
   ]
  },
  {
   "cell_type": "code",
   "execution_count": 14,
   "metadata": {},
   "outputs": [],
   "source": [
    "Headlines.drop(\"index\", axis = 1, inplace=True)"
   ]
  },
  {
   "cell_type": "code",
   "execution_count": 48,
   "metadata": {},
   "outputs": [
    {
     "data": {
      "text/plain": [
       "(235, 2)"
      ]
     },
     "execution_count": 48,
     "metadata": {},
     "output_type": "execute_result"
    }
   ],
   "source": [
    "Headlines.head(10)\n",
    "Headlines.shape"
   ]
  },
  {
   "cell_type": "code",
   "execution_count": 16,
   "metadata": {},
   "outputs": [
    {
     "data": {
      "text/plain": [
       "\"Erdogan vows to quit when 'enough', sparks Twitter trend\""
      ]
     },
     "execution_count": 16,
     "metadata": {},
     "output_type": "execute_result"
    }
   ],
   "source": [
    "Headlines['Headline'][0]"
   ]
  },
  {
   "cell_type": "code",
   "execution_count": 17,
   "metadata": {},
   "outputs": [],
   "source": [
    "test=Headlines['Headline'][0]"
   ]
  },
  {
   "cell_type": "code",
   "execution_count": 20,
   "metadata": {},
   "outputs": [],
   "source": [
    "nlp_engine=boto3.client(service_name=\"comprehend\",region_name=\"us-east-1\")"
   ]
  },
  {
   "cell_type": "code",
   "execution_count": 21,
   "metadata": {},
   "outputs": [],
   "source": [
    "result=nlp_engine.detect_sentiment(Text=test,LanguageCode='en')"
   ]
  },
  {
   "cell_type": "code",
   "execution_count": 22,
   "metadata": {},
   "outputs": [
    {
     "data": {
      "text/plain": [
       "{'ResponseMetadata': {'HTTPHeaders': {'connection': 'keep-alive',\n",
       "   'content-length': '163',\n",
       "   'content-type': 'application/x-amz-json-1.1',\n",
       "   'date': 'Fri, 11 May 2018 18:37:07 GMT',\n",
       "   'x-amzn-requestid': '4f16b8d2-554a-11e8-98e2-4d2e67fb8073'},\n",
       "  'HTTPStatusCode': 200,\n",
       "  'RequestId': '4f16b8d2-554a-11e8-98e2-4d2e67fb8073',\n",
       "  'RetryAttempts': 0},\n",
       " 'Sentiment': 'NEUTRAL',\n",
       " 'SentimentScore': {'Mixed': 0.005120854824781418,\n",
       "  'Negative': 0.10515657067298889,\n",
       "  'Neutral': 0.8851268291473389,\n",
       "  'Positive': 0.004595705308020115}}"
      ]
     },
     "execution_count": 22,
     "metadata": {},
     "output_type": "execute_result"
    }
   ],
   "source": [
    "result"
   ]
  },
  {
   "cell_type": "code",
   "execution_count": 25,
   "metadata": {},
   "outputs": [
    {
     "name": "stdout",
     "output_type": "stream",
     "text": [
      "dict_keys(['Sentiment', 'SentimentScore', 'ResponseMetadata'])\n",
      "NEUTRAL\n",
      "dict_keys(['Positive', 'Negative', 'Neutral', 'Mixed'])\n",
      "0.004595705308020115\n",
      "dict_items([('Positive', 0.004595705308020115), ('Negative', 0.10515657067298889), ('Neutral', 0.8851268291473389), ('Mixed', 0.005120854824781418)])\n"
     ]
    }
   ],
   "source": [
    "print(result.keys())\n",
    "print(result['Sentiment'])\n",
    "sent_score_dict=result['SentimentScore']\n",
    "print(sent_score_dict.keys())\n",
    "print(sent_score_dict['Positive'])\n",
    "print(sent_score_dict.items())"
   ]
  },
  {
   "cell_type": "code",
   "execution_count": 26,
   "metadata": {},
   "outputs": [],
   "source": [
    "key_phrase_res=nlp_engine.detect_key_phrases(Text=test,LanguageCode='en')"
   ]
  },
  {
   "cell_type": "code",
   "execution_count": 69,
   "metadata": {},
   "outputs": [
    {
     "name": "stdout",
     "output_type": "stream",
     "text": [
      "Erdogan\n"
     ]
    }
   ],
   "source": [
    "temp_result = key_phrase_res['KeyPhrases']\n",
    "for item in temp_result:\n",
    "    print(item['Text'])"
   ]
  },
  {
   "cell_type": "code",
   "execution_count": 33,
   "metadata": {},
   "outputs": [],
   "source": [
    "nlp_input=list(Headlines['Headline'])"
   ]
  },
  {
   "cell_type": "code",
   "execution_count": 34,
   "metadata": {},
   "outputs": [],
   "source": [
    "def nlp_sentiment(hl_list):\n",
    "    sentiment_word=[]\n",
    "    positive_score=[]\n",
    "    neutral_score=[]\n",
    "    negative_score=[]\n",
    "    \n",
    "    for hl in hl_list:\n",
    "        result=nlp_engine.detect_sentiment(Text=hl,LanguageCode='en')\n",
    "        sentiment_word.append(result['Sentiment']) #populate sentiment word list\n",
    "        sent_score_dict=result['SentimentScore'] #create score dictionary\n",
    "        positive_score.append(sent_score_dict['Positive']) #populate positive score list\n",
    "        neutral_score.append(sent_score_dict['Neutral']) #populate negative score list\n",
    "        negative_score.append(sent_score_dict['Negative']) #populate neutral score list\n",
    "    return (sentiment_word,positive_score,neutral_score, negative_score)"
   ]
  },
  {
   "cell_type": "code",
   "execution_count": 35,
   "metadata": {},
   "outputs": [],
   "source": [
    "sentiment_word,positive_score,neutral_score, negative_score=nlp_sentiment(nlp_input)"
   ]
  },
  {
   "cell_type": "code",
   "execution_count": 58,
   "metadata": {},
   "outputs": [],
   "source": [
    "NLP_Headlines=Headlines"
   ]
  },
  {
   "cell_type": "code",
   "execution_count": 59,
   "metadata": {},
   "outputs": [],
   "source": [
    "NLP_Headlines[\"Sentiment\"]=sentiment_word\n",
    "NLP_Headlines[\"Positive_score\"]=positive_score\n",
    "NLP_Headlines[\"Neutral_score\"]=neutral_score\n",
    "NLP_Headlines[\"Negative_score\"]=negative_score\n"
   ]
  },
  {
   "cell_type": "code",
   "execution_count": 60,
   "metadata": {},
   "outputs": [
    {
     "data": {
      "text/html": [
       "<div>\n",
       "<style scoped>\n",
       "    .dataframe tbody tr th:only-of-type {\n",
       "        vertical-align: middle;\n",
       "    }\n",
       "\n",
       "    .dataframe tbody tr th {\n",
       "        vertical-align: top;\n",
       "    }\n",
       "\n",
       "    .dataframe thead th {\n",
       "        text-align: right;\n",
       "    }\n",
       "</style>\n",
       "<table border=\"1\" class=\"dataframe\">\n",
       "  <thead>\n",
       "    <tr style=\"text-align: right;\">\n",
       "      <th></th>\n",
       "      <th>Headline</th>\n",
       "      <th>Source</th>\n",
       "      <th>Sentiment</th>\n",
       "      <th>Positive_score</th>\n",
       "      <th>Neutral_score</th>\n",
       "      <th>Negative_score</th>\n",
       "    </tr>\n",
       "  </thead>\n",
       "  <tbody>\n",
       "    <tr>\n",
       "      <th>0</th>\n",
       "      <td>Erdogan vows to quit when 'enough', sparks Twi...</td>\n",
       "      <td>News24</td>\n",
       "      <td>NEUTRAL</td>\n",
       "      <td>0.004596</td>\n",
       "      <td>0.885127</td>\n",
       "      <td>0.105157</td>\n",
       "    </tr>\n",
       "    <tr>\n",
       "      <th>1</th>\n",
       "      <td>Erdogan speech in Turkey backfires, leading to...</td>\n",
       "      <td>CBC.ca</td>\n",
       "      <td>NEUTRAL</td>\n",
       "      <td>0.015909</td>\n",
       "      <td>0.961792</td>\n",
       "      <td>0.019723</td>\n",
       "    </tr>\n",
       "    <tr>\n",
       "      <th>2</th>\n",
       "      <td>I'll step aside when Turkey says 'enough', say...</td>\n",
       "      <td>euronews</td>\n",
       "      <td>NEUTRAL</td>\n",
       "      <td>0.072909</td>\n",
       "      <td>0.871536</td>\n",
       "      <td>0.044632</td>\n",
       "    </tr>\n",
       "    <tr>\n",
       "      <th>3</th>\n",
       "      <td>Has Erdogan accidentally gifted the Turkish op...</td>\n",
       "      <td>Kurdistan24</td>\n",
       "      <td>NEUTRAL</td>\n",
       "      <td>0.029603</td>\n",
       "      <td>0.923211</td>\n",
       "      <td>0.035578</td>\n",
       "    </tr>\n",
       "    <tr>\n",
       "      <th>4</th>\n",
       "      <td>Erdogan pledge to quit when 'enough' sparks Tw...</td>\n",
       "      <td>Gulf Times</td>\n",
       "      <td>NEUTRAL</td>\n",
       "      <td>0.009854</td>\n",
       "      <td>0.859170</td>\n",
       "      <td>0.122728</td>\n",
       "    </tr>\n",
       "    <tr>\n",
       "      <th>5</th>\n",
       "      <td>'That's enough' trends on Twitter after Turkey...</td>\n",
       "      <td>Daily Mail</td>\n",
       "      <td>NEUTRAL</td>\n",
       "      <td>0.008942</td>\n",
       "      <td>0.916661</td>\n",
       "      <td>0.068492</td>\n",
       "    </tr>\n",
       "    <tr>\n",
       "      <th>6</th>\n",
       "      <td>Turkish twitter hashtag 'Tamam' trending in op...</td>\n",
       "      <td>Middle East Eye</td>\n",
       "      <td>NEUTRAL</td>\n",
       "      <td>0.002121</td>\n",
       "      <td>0.995069</td>\n",
       "      <td>0.002612</td>\n",
       "    </tr>\n",
       "    <tr>\n",
       "      <th>7</th>\n",
       "      <td>'Serbia, Turkey are building bridges of friend...</td>\n",
       "      <td>Brinkwire (press release)</td>\n",
       "      <td>NEUTRAL</td>\n",
       "      <td>0.042800</td>\n",
       "      <td>0.942789</td>\n",
       "      <td>0.011974</td>\n",
       "    </tr>\n",
       "    <tr>\n",
       "      <th>8</th>\n",
       "      <td>Erdoğan's election manifesto</td>\n",
       "      <td>Daily Sabah</td>\n",
       "      <td>NEUTRAL</td>\n",
       "      <td>0.009923</td>\n",
       "      <td>0.942313</td>\n",
       "      <td>0.045632</td>\n",
       "    </tr>\n",
       "    <tr>\n",
       "      <th>9</th>\n",
       "      <td>How will the Turkish economy take shape in the...</td>\n",
       "      <td>Daily Sabah</td>\n",
       "      <td>NEUTRAL</td>\n",
       "      <td>0.003857</td>\n",
       "      <td>0.990248</td>\n",
       "      <td>0.005407</td>\n",
       "    </tr>\n",
       "  </tbody>\n",
       "</table>\n",
       "</div>"
      ],
      "text/plain": [
       "                                            Headline  \\\n",
       "0  Erdogan vows to quit when 'enough', sparks Twi...   \n",
       "1  Erdogan speech in Turkey backfires, leading to...   \n",
       "2  I'll step aside when Turkey says 'enough', say...   \n",
       "3  Has Erdogan accidentally gifted the Turkish op...   \n",
       "4  Erdogan pledge to quit when 'enough' sparks Tw...   \n",
       "5  'That's enough' trends on Twitter after Turkey...   \n",
       "6  Turkish twitter hashtag 'Tamam' trending in op...   \n",
       "7  'Serbia, Turkey are building bridges of friend...   \n",
       "8                       Erdoğan's election manifesto   \n",
       "9  How will the Turkish economy take shape in the...   \n",
       "\n",
       "                      Source Sentiment  Positive_score  Neutral_score  \\\n",
       "0                     News24   NEUTRAL        0.004596       0.885127   \n",
       "1                     CBC.ca   NEUTRAL        0.015909       0.961792   \n",
       "2                   euronews   NEUTRAL        0.072909       0.871536   \n",
       "3                Kurdistan24   NEUTRAL        0.029603       0.923211   \n",
       "4                 Gulf Times   NEUTRAL        0.009854       0.859170   \n",
       "5                 Daily Mail   NEUTRAL        0.008942       0.916661   \n",
       "6            Middle East Eye   NEUTRAL        0.002121       0.995069   \n",
       "7  Brinkwire (press release)   NEUTRAL        0.042800       0.942789   \n",
       "8                Daily Sabah   NEUTRAL        0.009923       0.942313   \n",
       "9                Daily Sabah   NEUTRAL        0.003857       0.990248   \n",
       "\n",
       "   Negative_score  \n",
       "0        0.105157  \n",
       "1        0.019723  \n",
       "2        0.044632  \n",
       "3        0.035578  \n",
       "4        0.122728  \n",
       "5        0.068492  \n",
       "6        0.002612  \n",
       "7        0.011974  \n",
       "8        0.045632  \n",
       "9        0.005407  "
      ]
     },
     "execution_count": 60,
     "metadata": {},
     "output_type": "execute_result"
    }
   ],
   "source": [
    "NLP_Headlines.head(10)"
   ]
  },
  {
   "cell_type": "code",
   "execution_count": 79,
   "metadata": {},
   "outputs": [],
   "source": [
    "NLP_Headlines.to_csv('/Users/olgayangol/Desktop/git_proj/News_NLP_analysis/NLP_headlines.csv')"
   ]
  },
  {
   "cell_type": "code",
   "execution_count": 63,
   "metadata": {},
   "outputs": [],
   "source": [
    "#!cat NLP_headlines.csv"
   ]
  },
  {
   "cell_type": "code",
   "execution_count": 74,
   "metadata": {},
   "outputs": [],
   "source": [
    "def nlp_key_words(hl_list):\n",
    "    key_words=[]\n",
    "    \n",
    "    for hl in hl_list:\n",
    "        per_hl=[]\n",
    "        result=nlp_engine.detect_key_phrases(Text=hl,LanguageCode='en')\n",
    "        key_words_list=result['KeyPhrases']\n",
    "        for key_word in key_words_list:\n",
    "            per_hl.append(key_word['Text'])\n",
    "        key_words.append(per_hl)\n",
    "    \n",
    "    return (key_words)\n",
    "\n"
   ]
  },
  {
   "cell_type": "code",
   "execution_count": 75,
   "metadata": {},
   "outputs": [],
   "source": [
    "key_words=nlp_key_words(nlp_input)"
   ]
  },
  {
   "cell_type": "code",
   "execution_count": 76,
   "metadata": {},
   "outputs": [
    {
     "data": {
      "text/plain": [
       "235"
      ]
     },
     "execution_count": 76,
     "metadata": {},
     "output_type": "execute_result"
    }
   ],
   "source": [
    "len(key_words)"
   ]
  },
  {
   "cell_type": "code",
   "execution_count": 77,
   "metadata": {},
   "outputs": [],
   "source": [
    "NLP_Headlines[\"Key_words\"]=key_words"
   ]
  },
  {
   "cell_type": "code",
   "execution_count": 78,
   "metadata": {},
   "outputs": [
    {
     "data": {
      "text/html": [
       "<div>\n",
       "<style scoped>\n",
       "    .dataframe tbody tr th:only-of-type {\n",
       "        vertical-align: middle;\n",
       "    }\n",
       "\n",
       "    .dataframe tbody tr th {\n",
       "        vertical-align: top;\n",
       "    }\n",
       "\n",
       "    .dataframe thead th {\n",
       "        text-align: right;\n",
       "    }\n",
       "</style>\n",
       "<table border=\"1\" class=\"dataframe\">\n",
       "  <thead>\n",
       "    <tr style=\"text-align: right;\">\n",
       "      <th></th>\n",
       "      <th>Headline</th>\n",
       "      <th>Source</th>\n",
       "      <th>Sentiment</th>\n",
       "      <th>Positive_score</th>\n",
       "      <th>Neutral_score</th>\n",
       "      <th>Negative_score</th>\n",
       "      <th>Key_words</th>\n",
       "    </tr>\n",
       "  </thead>\n",
       "  <tbody>\n",
       "    <tr>\n",
       "      <th>0</th>\n",
       "      <td>Erdogan vows to quit when 'enough', sparks Twi...</td>\n",
       "      <td>News24</td>\n",
       "      <td>NEUTRAL</td>\n",
       "      <td>0.004596</td>\n",
       "      <td>0.885127</td>\n",
       "      <td>0.105157</td>\n",
       "      <td>[Erdogan]</td>\n",
       "    </tr>\n",
       "    <tr>\n",
       "      <th>1</th>\n",
       "      <td>Erdogan speech in Turkey backfires, leading to...</td>\n",
       "      <td>CBC.ca</td>\n",
       "      <td>NEUTRAL</td>\n",
       "      <td>0.015909</td>\n",
       "      <td>0.961792</td>\n",
       "      <td>0.019723</td>\n",
       "      <td>[Erdogan speech, Turkey, widespread]</td>\n",
       "    </tr>\n",
       "    <tr>\n",
       "      <th>2</th>\n",
       "      <td>I'll step aside when Turkey says 'enough', say...</td>\n",
       "      <td>euronews</td>\n",
       "      <td>NEUTRAL</td>\n",
       "      <td>0.072909</td>\n",
       "      <td>0.871536</td>\n",
       "      <td>0.044632</td>\n",
       "      <td>[Turkey, Erdogan, Twitter]</td>\n",
       "    </tr>\n",
       "    <tr>\n",
       "      <th>3</th>\n",
       "      <td>Has Erdogan accidentally gifted the Turkish op...</td>\n",
       "      <td>Kurdistan24</td>\n",
       "      <td>NEUTRAL</td>\n",
       "      <td>0.029603</td>\n",
       "      <td>0.923211</td>\n",
       "      <td>0.035578</td>\n",
       "      <td>[Erdogan, the Turkish opposition, a catchy slo...</td>\n",
       "    </tr>\n",
       "    <tr>\n",
       "      <th>4</th>\n",
       "      <td>Erdogan pledge to quit when 'enough' sparks Tw...</td>\n",
       "      <td>Gulf Times</td>\n",
       "      <td>NEUTRAL</td>\n",
       "      <td>0.009854</td>\n",
       "      <td>0.859170</td>\n",
       "      <td>0.122728</td>\n",
       "      <td>[Erdogan]</td>\n",
       "    </tr>\n",
       "    <tr>\n",
       "      <th>5</th>\n",
       "      <td>'That's enough' trends on Twitter after Turkey...</td>\n",
       "      <td>Daily Mail</td>\n",
       "      <td>NEUTRAL</td>\n",
       "      <td>0.008942</td>\n",
       "      <td>0.916661</td>\n",
       "      <td>0.068492</td>\n",
       "      <td>[trends, Twitter, Turkey, President Erdogan, r...</td>\n",
       "    </tr>\n",
       "    <tr>\n",
       "      <th>6</th>\n",
       "      <td>Turkish twitter hashtag 'Tamam' trending in op...</td>\n",
       "      <td>Middle East Eye</td>\n",
       "      <td>NEUTRAL</td>\n",
       "      <td>0.002121</td>\n",
       "      <td>0.995069</td>\n",
       "      <td>0.002612</td>\n",
       "      <td>[Turkish twitter hashtag, 'Tamam, ' trending, ...</td>\n",
       "    </tr>\n",
       "    <tr>\n",
       "      <th>7</th>\n",
       "      <td>'Serbia, Turkey are building bridges of friend...</td>\n",
       "      <td>Brinkwire (press release)</td>\n",
       "      <td>NEUTRAL</td>\n",
       "      <td>0.042800</td>\n",
       "      <td>0.942789</td>\n",
       "      <td>0.011974</td>\n",
       "      <td>[Serbia, Turkey, bridges, friendship]</td>\n",
       "    </tr>\n",
       "    <tr>\n",
       "      <th>8</th>\n",
       "      <td>Erdoğan's election manifesto</td>\n",
       "      <td>Daily Sabah</td>\n",
       "      <td>NEUTRAL</td>\n",
       "      <td>0.009923</td>\n",
       "      <td>0.942313</td>\n",
       "      <td>0.045632</td>\n",
       "      <td>[Erdoğan]</td>\n",
       "    </tr>\n",
       "    <tr>\n",
       "      <th>9</th>\n",
       "      <td>How will the Turkish economy take shape in the...</td>\n",
       "      <td>Daily Sabah</td>\n",
       "      <td>NEUTRAL</td>\n",
       "      <td>0.003857</td>\n",
       "      <td>0.990248</td>\n",
       "      <td>0.005407</td>\n",
       "      <td>[the Turkish economy, shape, the post-election...</td>\n",
       "    </tr>\n",
       "  </tbody>\n",
       "</table>\n",
       "</div>"
      ],
      "text/plain": [
       "                                            Headline  \\\n",
       "0  Erdogan vows to quit when 'enough', sparks Twi...   \n",
       "1  Erdogan speech in Turkey backfires, leading to...   \n",
       "2  I'll step aside when Turkey says 'enough', say...   \n",
       "3  Has Erdogan accidentally gifted the Turkish op...   \n",
       "4  Erdogan pledge to quit when 'enough' sparks Tw...   \n",
       "5  'That's enough' trends on Twitter after Turkey...   \n",
       "6  Turkish twitter hashtag 'Tamam' trending in op...   \n",
       "7  'Serbia, Turkey are building bridges of friend...   \n",
       "8                       Erdoğan's election manifesto   \n",
       "9  How will the Turkish economy take shape in the...   \n",
       "\n",
       "                      Source Sentiment  Positive_score  Neutral_score  \\\n",
       "0                     News24   NEUTRAL        0.004596       0.885127   \n",
       "1                     CBC.ca   NEUTRAL        0.015909       0.961792   \n",
       "2                   euronews   NEUTRAL        0.072909       0.871536   \n",
       "3                Kurdistan24   NEUTRAL        0.029603       0.923211   \n",
       "4                 Gulf Times   NEUTRAL        0.009854       0.859170   \n",
       "5                 Daily Mail   NEUTRAL        0.008942       0.916661   \n",
       "6            Middle East Eye   NEUTRAL        0.002121       0.995069   \n",
       "7  Brinkwire (press release)   NEUTRAL        0.042800       0.942789   \n",
       "8                Daily Sabah   NEUTRAL        0.009923       0.942313   \n",
       "9                Daily Sabah   NEUTRAL        0.003857       0.990248   \n",
       "\n",
       "   Negative_score                                          Key_words  \n",
       "0        0.105157                                          [Erdogan]  \n",
       "1        0.019723               [Erdogan speech, Turkey, widespread]  \n",
       "2        0.044632                         [Turkey, Erdogan, Twitter]  \n",
       "3        0.035578  [Erdogan, the Turkish opposition, a catchy slo...  \n",
       "4        0.122728                                          [Erdogan]  \n",
       "5        0.068492  [trends, Twitter, Turkey, President Erdogan, r...  \n",
       "6        0.002612  [Turkish twitter hashtag, 'Tamam, ' trending, ...  \n",
       "7        0.011974              [Serbia, Turkey, bridges, friendship]  \n",
       "8        0.045632                                          [Erdoğan]  \n",
       "9        0.005407  [the Turkish economy, shape, the post-election...  "
      ]
     },
     "execution_count": 78,
     "metadata": {},
     "output_type": "execute_result"
    }
   ],
   "source": [
    "NLP_Headlines.head(10)"
   ]
  },
  {
   "cell_type": "code",
   "execution_count": null,
   "metadata": {},
   "outputs": [],
   "source": [
    "NLP_Headlines.to_csv('/Users/olgayangol/Desktop/git_proj/News_NLP_analysis/NLP_headlines.csv')"
   ]
  }
 ],
 "metadata": {
  "kernelspec": {
   "display_name": "Python 3",
   "language": "python",
   "name": "python3"
  },
  "language_info": {
   "codemirror_mode": {
    "name": "ipython",
    "version": 3
   },
   "file_extension": ".py",
   "mimetype": "text/x-python",
   "name": "python",
   "nbconvert_exporter": "python",
   "pygments_lexer": "ipython3",
   "version": "3.6.4"
  }
 },
 "nbformat": 4,
 "nbformat_minor": 2
}
